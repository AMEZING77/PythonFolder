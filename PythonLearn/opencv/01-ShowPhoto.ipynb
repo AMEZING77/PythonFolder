{
 "cells": [
  {
   "cell_type": "code",
   "execution_count": null,
   "metadata": {},
   "outputs": [],
   "source": [
    "import cv2 as cv\n",
    "\n",
    "# 读取图片并显示\n",
    "# 1.读取图片\n",
    "# 2.显示图片\n",
    "# 3.等待按键退出\n",
    "img = cv.imread(\"Photos/1.png\")\n",
    "cv.imshow(\"image1\", img)\n",
    "cv.waitKey(0)\n",
    "\n",
    "# 存在问题，文件像素太大，屏幕无法显示"
   ]
  }
 ],
 "metadata": {
  "kernelspec": {
   "display_name": "Python 3",
   "language": "python",
   "name": "python3"
  },
  "language_info": {
   "name": "python",
   "version": "3.13.2"
  }
 },
 "nbformat": 4,
 "nbformat_minor": 2
}
