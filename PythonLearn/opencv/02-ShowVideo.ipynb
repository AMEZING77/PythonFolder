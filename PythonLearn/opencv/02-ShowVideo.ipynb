{
 "cells": [
  {
   "cell_type": "code",
   "execution_count": null,
   "metadata": {},
   "outputs": [],
   "source": [
    "import cv2 as cv\n",
    "\n",
    "# 读取视频\n",
    "\n",
    "video = cv.VideoCapture(\"Videos/rain.mp4\")\n",
    "\n",
    "while True:\n",
    "    # 读取视频帧\n",
    "    ret, frame = video.read()\n",
    "    if not ret:\n",
    "        print(\"视频读取失败\")\n",
    "        break\n",
    "    # 显示视频帧\n",
    "    cv.imshow(\"VideoRain\", frame)\n",
    "    # waitkey(20)等待20ms，然后检查是否有按键按下;\n",
    "    # 0xFF 掩码可以确保我们只比较按键的低 8 位;\n",
    "    # 从而避免由于高位的干扰导致的错误判断;\n",
    "    # 这在处理键盘输入时是一个常见的做法;\n",
    "    if cv.waitKey(20) & 0xFF == ord(\"q\"):\n",
    "        break\n",
    "\n",
    "# 释放视频资源\n",
    "video.release()\n",
    "cv.destroyAllWindows()\n",
    "\n",
    "cv.waitKey(0)"
   ]
  }
 ],
 "metadata": {
  "kernelspec": {
   "display_name": "Python 3",
   "language": "python",
   "name": "python3"
  },
  "language_info": {
   "name": "python",
   "version": "3.13.2"
  }
 },
 "nbformat": 4,
 "nbformat_minor": 2
}
