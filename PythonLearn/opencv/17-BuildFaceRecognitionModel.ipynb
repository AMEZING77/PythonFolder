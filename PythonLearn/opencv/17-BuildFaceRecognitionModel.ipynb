{
 "cells": [
  {
   "cell_type": "code",
   "execution_count": 12,
   "metadata": {},
   "outputs": [
    {
     "name": "stdout",
     "output_type": "stream",
     "text": [
      "Training done ----------------\n"
     ]
    }
   ],
   "source": [
    "import os\n",
    "import cv2 as cv\n",
    "import numpy as np\n",
    "\n",
    "people = [\"LHL\", \"ZXB\"]\n",
    "dir = \"TrainFaces\"\n",
    "\n",
    "features = []\n",
    "labels = []\n",
    "haar_cascade = cv.CascadeClassifier(\"FrontFaceHaarcascade.xml\")\n",
    "\n",
    "\n",
    "def create_train():\n",
    "    for person in people:\n",
    "        path = os.path.join(dir.encode(\"utf-8\").decode(\"utf-8\"), person)\n",
    "        label = people.index(person)\n",
    "        if not os.path.exists(path):\n",
    "            print(f\"Path does not exist: {path}\")\n",
    "            continue\n",
    "        for img in os.listdir(path):\n",
    "            img_path = os.path.join(path, img)\n",
    "            img_array = cv.imdecode(\n",
    "                np.fromfile(img_path, dtype=np.uint8), cv.IMREAD_COLOR\n",
    "            )  # 解决imread不能读取中文路径的问题\n",
    "            if img_array is None:\n",
    "                print(f\"Failed to read image: {img_path}\")\n",
    "                continue\n",
    "            gray = cv.cvtColor(img_array, cv.COLOR_BGR2GRAY)\n",
    "            faces_rect = haar_cascade.detectMultiScale(\n",
    "                gray, scaleFactor=1.1, minNeighbors=4\n",
    "            )\n",
    "            for x, y, w, h in faces_rect:\n",
    "                faces_roi = gray[y : y + h, x : x + w]\n",
    "                features.append(faces_roi)\n",
    "                labels.append(label)\n",
    "\n",
    "\n",
    "create_train()\n",
    "print(\"Training done ----------------\")\n",
    "face_recognizer = cv.face.LBPHFaceRecognizer_create()\n",
    "features = np.array(features, dtype=\"object\")\n",
    "labels = np.array(labels)\n",
    "# Train the Recognizer on the features list and the labels list\n",
    "face_recognizer.train(features, labels)\n",
    "np.save(\"features.npy\", features)\n",
    "np.save(\"labels.npy\", labels)\n",
    "face_recognizer.save(\"face_trained.yml\")  # 能够保存训练好的模型，在其他地方直接调用"
   ]
  },
  {
   "cell_type": "code",
   "execution_count": 20,
   "metadata": {},
   "outputs": [
    {
     "name": "stdout",
     "output_type": "stream",
     "text": [
      "Label = LHL with a confidence of 130.72697039890056\n"
     ]
    }
   ],
   "source": [
    "import numpy as np\n",
    "import cv2 as cv\n",
    "\n",
    "harr_cascade = cv.CascadeClassifier(\"FrontFaceHaarcascade.xml\")\n",
    "\n",
    "features = np.load(\"features.npy\", allow_pickle=True)\n",
    "labels = np.load(\"labels.npy\")\n",
    "face_recognizer = cv.face.LBPHFaceRecognizer_create()\n",
    "face_recognizer.read(\"face_trained.yml\")\n",
    "\n",
    "people = [\"LHL\", \"ZXB\"]\n",
    "path = \"TrainFaces\\\\LHL\\\\2.jpg\"\n",
    "path1 = \"Photos/7.png\"\n",
    "\n",
    "img = cv.imdecode(np.fromfile(path1, dtype=np.uint8), cv.IMREAD_COLOR)\n",
    "\n",
    "gray = cv.cvtColor(img, cv.COLOR_BGR2GRAY)\n",
    "cv.imshow(\"Person\", gray)\n",
    "\n",
    "# Detect the face in the image\n",
    "faces_rect = harr_cascade.detectMultiScale(gray, scaleFactor=1.1, minNeighbors=4)\n",
    "for x, y, w, h in faces_rect:\n",
    "    face = gray[y : y + h, x : x + w]\n",
    "    label, confidence = face_recognizer.predict(face)\n",
    "    print(f\"Label = {people[label]} with a confidence of {confidence}\")\n",
    "    cv.rectangle(img, (x, y), (x + w, y + h), (0, 255, 0), thickness=2)\n",
    "    cv.putText(\n",
    "        img,\n",
    "        str(people[label]),\n",
    "        (x - 20, y - 20),\n",
    "        cv.FONT_HERSHEY_COMPLEX,\n",
    "        1.0,\n",
    "        (0, 255, 0),\n",
    "        thickness=2,\n",
    "    )\n",
    "    cv.imshow(\"Detected\", img)\n",
    "    cv.waitKey(0)\n",
    "cv.destroyAllWindows()"
   ]
  }
 ],
 "metadata": {
  "kernelspec": {
   "display_name": "Python 3",
   "language": "python",
   "name": "python3"
  },
  "language_info": {
   "codemirror_mode": {
    "name": "ipython",
    "version": 3
   },
   "file_extension": ".py",
   "mimetype": "text/x-python",
   "name": "python",
   "nbconvert_exporter": "python",
   "pygments_lexer": "ipython3",
   "version": "3.13.2"
  }
 },
 "nbformat": 4,
 "nbformat_minor": 2
}
